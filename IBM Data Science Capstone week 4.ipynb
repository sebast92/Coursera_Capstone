{
    "cells": [
        {
            "metadata": {
                "collapsed": true
            },
            "cell_type": "markdown",
            "source": "<H1> Introduction/Business Problem: </H1>\n\nTechnology is (and will remain as) arguably our greatest influence in this century, revolutionazing human capabilities and desires beyond what was previously only dreamed of. The massive adoption of smartphones and social media changed forever the way people interact and engage with each other, with an increasingly accesible, diversified and novel content, and of course with businesses that cater the recently developed needs of this new age.\n\nThe entertainment industry, for example, has seen major shifts this last two decades. In this regard, one area of special interest for it\u2019s upside potential is the videogames industry. For the digital-native population, videogames have been an ubiquitous and reliable companion from the most tender age, providing opportunities to challenge themselves, to compete and improve, to bond and connect with friends and other fellow gamers or simply enjoy their spare time in a casual manner. As these people grow, so do this passion: millennials and centennials all around the globe continue to find pleasure in gaming as their mature into college or their first jobs, with the intention to relax and have fun with friends after a long, hard day of work, from the comfort of their own homes. The COVID-19 pandemic exacerbated this trend and made it more visible to everyone, something that was reflected in all sort of sectorial metrics.\n\nEven though the ability to seamlessly play a game from an extremely large pool of options with one\u2019s acquaintance and from one\u2019s own place proved to be very appealing, maybe there are other venues where people would enjoy the gaming experience. In the Internet era, communities of all kinds have flooded this wonderful space: would an in-person gathering be something they would be interested in? Would this people like to meet their online partners in real life to share a meal or a drink and, of course, play casually or competitively with others in-site? Could this setup attract a broader audience into the gaming market, thus expanding it\u2019s dimension and resources, ultimately improving the consumer experience through innovative products and services?\n\nIn this instance, focus will be placed into finding the best possible locations for such a place in Buenos Aires, Argentina, using a diverse set of tools from the data science and machine learning fields. As the target audience is mainly mid-young adults with a middle-to-high income (relative to Argentina\u2019s economy, which won\u2019t be the case for developed economies), proximity to universities, tech-related companies and stores, and other entertainment venues that are popular among the target audience, like traditional bars and cinemas, would probably be convenient, improving chances to maximize potential turnover and revenue."
        },
        {
            "metadata": {},
            "cell_type": "markdown",
            "source": "<H1> Data </H1>\n\nThe coordinates of all neighborhoods will be gather from the website of Buenos Aires' municipal government. Information regarding location of universities is also contained in a dataset in this website. The Foursquare API will be used to query venues and allow meaningful comparison between neighborhoods."
        },
        {
            "metadata": {},
            "cell_type": "code",
            "source": "",
            "execution_count": null,
            "outputs": []
        }
    ],
    "metadata": {
        "kernelspec": {
            "name": "python3",
            "display_name": "Python 3.6",
            "language": "python"
        },
        "language_info": {
            "name": "python",
            "version": "3.6.9",
            "mimetype": "text/x-python",
            "codemirror_mode": {
                "name": "ipython",
                "version": 3
            },
            "pygments_lexer": "ipython3",
            "nbconvert_exporter": "python",
            "file_extension": ".py"
        }
    },
    "nbformat": 4,
    "nbformat_minor": 1
}