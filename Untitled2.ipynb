{
 "cells": [
  {
   "cell_type": "markdown",
   "metadata": {},
   "source": [
    "Introduction/Business Problem:\n",
    "Technology is (and will remain as) arguably our greatest influence in this century, revolutionazing human capabilities and desires beyond what was previously only dreamed of. The massive adoption of smartphones and social media changed forever the way people interact and engage with each other, with an increasingly accesible, diversified and novel content, and of course with businesses that cater the recently developed needs of this new age.\n",
    "\n",
    "The entertainment industry, for example, has seen major shifts this last two decades. In this regard, one area of special interest for it’s upside potential is the videogames industry. For the digital-native population, videogames have been an ubiquitous and reliable companion from the most tender age, providing opportunities to challenge themselves, to compete and improve, to bond and connect with friends and other fellow gamers or simply enjoy their spare time in a casual manner. As these people grow, so do this passion: millennials and centennials all around the globe continue to find pleasure in gaming as their mature into college or their first jobs, with the intention to relax and have fun with friends after a long, hard day of work, from the comfort of their own homes. The COVID-19 pandemic exacerbated this trend and made it more visible to everyone, something that was reflected in all sort of sectorial metrics.\n",
    "\n",
    "Even though the ability to seamlessly play a game from an extremely large pool of options with one’s acquaintance and from one’s own place proved to be very appealing, maybe there are other venues where people would enjoy the gaming experience. In the Internet era, communities of all kinds have flooded this wonderful space: would an in-person gathering be something they would be interested in? Would this people like to meet their online partners in real life to share a meal or a drink and, of course, play casually or competitively with others in-site? Could this setup attract a broader audience into the gaming market, thus expanding it’s dimension and resources, ultimately improving the consumer experience through innovative products and services?\n",
    "\n",
    "In this instance, focus will be placed into finding the best possible locations for such a place in Buenos Aires, Argentina, using a diverse set of tools from the data science and machine learning fields. As the target audience is mainly mid-young adults with a middle-to-high income (relative to Argentina’s economy, which won’t be the case for developed economies), proximity to universities, tech-related companies and stores, and other entertainment venues that are popular among the target audience, like traditional bars and cinemas, would probably be convenient, improving chances to maximize potential turnover and revenue."
   ]
  },
  {
   "cell_type": "markdown",
   "metadata": {},
   "source": [
    "<H1>Data:</H1>\n",
    "\n",
    "The coordinates of all neighborhoods will be gather from the website of Buenos Aires' municipal government. Information regarding location of universities is also contained in a dataset in this website. The Foursquare API will be used to query venues and allow meaningful comparison between neighborhoods."
   ]
  },
  {
   "cell_type": "markdown",
   "metadata": {},
   "source": [
    "<H1>Methodology:</H1>\n",
    "\n",
    "Both datasets had to be manipulated in order to concatenate them, just keeping the Neighborhood's names and venues's categories for the final analysis. The dataset containing the universities' information had a plethora of useless labels, and the dataset cointaining neighborhoods locations had a plethora of coordinates to account for their shape. Using these coordinates a rectangular area was calculated for each neighborhood, using it's center as the point from which to query venues' information from the Foursquare API, and using a different radius for each one, according to it's size. Not all venues were important for the purpose of the analysis, so some of them were deleted. Finally, venues were grouped into macro-categories by function to summarizes their information in a more simple presentation."
   ]
  },
  {
   "cell_type": "markdown",
   "metadata": {},
   "source": [
    "<H1>Discussion:</H1>\n",
    "\n",
    "According to this analysis, the most promising location is probably Balvanera, because there is a considerable concentration of the universities of the city, hosting around 18% of them (for comparison, the area with the maximum amount of restaurants and coffee shops only contained the 4% and 7% of them, respectively). This may have acted like a driver to open bars and restaurants in the area, trying to take advantage of the flow of people this univerisities generated. In this regard, the quantity of young people coming to this neighborhood could bolster the turnover of people into a gaming bar in this area."
   ]
  },
  {
   "cell_type": "markdown",
   "metadata": {},
   "source": [
    "<H1>Conclussion:</H1>\n",
    "\n",
    "As shown by this analysis, there are some areas in Buenos Aires City with interesting conditions for this kind of initiative, considering the amount of young people there are and how concentrated their point of interest are."
   ]
  },
  {
   "cell_type": "code",
   "execution_count": null,
   "metadata": {},
   "outputs": [],
   "source": []
  }
 ],
 "metadata": {
  "kernelspec": {
   "display_name": "Python 3",
   "language": "python",
   "name": "python3"
  },
  "language_info": {
   "codemirror_mode": {
    "name": "ipython",
    "version": 3
   },
   "file_extension": ".py",
   "mimetype": "text/x-python",
   "name": "python",
   "nbconvert_exporter": "python",
   "pygments_lexer": "ipython3",
   "version": "3.7.6"
  }
 },
 "nbformat": 4,
 "nbformat_minor": 4
}
